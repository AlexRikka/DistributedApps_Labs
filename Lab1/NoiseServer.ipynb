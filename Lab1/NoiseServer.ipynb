{
 "cells": [
  {
   "cell_type": "code",
   "execution_count": 1,
   "id": "fccff235",
   "metadata": {},
   "outputs": [],
   "source": [
    "import socket\n",
    "import cv2\n",
    "import numpy as np\n",
    "import matplotlib.pyplot as plt"
   ]
  },
  {
   "cell_type": "code",
   "execution_count": 2,
   "id": "8dfd20b5",
   "metadata": {},
   "outputs": [],
   "source": [
    "HOST = \"127.0.0.1\""
   ]
  },
  {
   "cell_type": "code",
   "execution_count": 3,
   "id": "7148a2d6",
   "metadata": {},
   "outputs": [],
   "source": [
    "class NoiseServer:\n",
    "    def __init__(self, noise_server_port, final_server_port, block_size=1024):\n",
    "        self.final_server_port = final_server_port\n",
    "        self.noise_server_port = noise_server_port\n",
    "        self.block_size = block_size\n",
    "        \n",
    "        # Receives image\n",
    "        self.socket_server = socket.socket(socket.AF_INET, socket.SOCK_STREAM)\n",
    "        self.socket_server.bind((HOST, noise_server_port))\n",
    "        self.socket_server.listen()\n",
    "         # Sends image\n",
    "        self.socket_client = socket.socket(socket.AF_INET, socket.SOCK_STREAM)\n",
    "    \n",
    "    \n",
    "    def run(self):\n",
    "        #receive\n",
    "        img_orig = self.recv_image()\n",
    "        #add noise\n",
    "        img_noise = self.add_noise(img_orig)\n",
    "        with self.socket_client as s:\n",
    "            print(f'Waiting for connetion with port {self.final_server_port}.')\n",
    "            s.connect((HOST, self.final_server_port))\n",
    "            print(f'Connected. Port:{self.final_server_port}. Sending images.')\n",
    "            #send image with noise\n",
    "            self.send_image(img_noise, s)\n",
    "            #send original image\n",
    "            self.send_image(img_orig, s)\n",
    " \n",
    "\n",
    "    def recv_image(self):\n",
    "        with self.socket_server as s:\n",
    "            print(f'Waiting for connection on port {self.noise_server_port}.')\n",
    "            conn, addr = s.accept()\n",
    "            print(f'Connected. Port:{self.noise_server_port}.')\n",
    "\n",
    "            # Receiving image size\n",
    "            h_bytes = conn.recv(4)\n",
    "            h = int.from_bytes(h_bytes, byteorder='big')\n",
    "            w_bytes = conn.recv(4)\n",
    "            w = int.from_bytes(w_bytes, byteorder='big')\n",
    "            print(f'Size of image h = {h} w = {w} was received.')\n",
    "\n",
    "            # Receiving image\n",
    "            n = h * w * 3\n",
    "            n_iters = n // self.block_size\n",
    "            n_remainder = n - n_iters * self.block_size\n",
    "            img_bytes = []\n",
    "            for i in range(n_iters):\n",
    "                block = conn.recv(self.block_size)\n",
    "                img_bytes.append(block)\n",
    "            if n_remainder > 0:\n",
    "                block = conn.recv(n_remainder)\n",
    "                img_bytes.append(block)\n",
    "            print(\"Image was received.\")\n",
    "\n",
    "            img_bytes_b = b''.join(img_bytes)\n",
    "            img_np = np.frombuffer(img_bytes_b, dtype='uint8')\n",
    "            img = img_np.reshape(h, w, 3)\n",
    "        return img\n",
    "    \n",
    "    def send_image(self, img, s):  \n",
    "        # Sending image size\n",
    "        h, w, _ = img.shape\n",
    "        n = h * w * 3  # size of bytes array\n",
    "        h_bytes = h.to_bytes(length=4, byteorder='big')\n",
    "        w_bytes = w.to_bytes(length=4, byteorder='big')\n",
    "        img_bytes = img.tobytes()\n",
    "        assert s.sendall(h_bytes) is None, print(\"Error sending h_bytes: %s\", e)\n",
    "        assert s.sendall(w_bytes) is None, print(\"Error sending w_bytes: %s\", e)\n",
    "\n",
    "        # Sending image\n",
    "        n_iters = n // self.block_size\n",
    "        n_remainder = n - n_iters * self.block_size\n",
    "        for i in range(n_iters):\n",
    "            block = img_bytes[self.block_size*i:(i+1)*self.block_size]\n",
    "            assert s.sendall(block) is None, print(\"Error sending image: %s\", e)\n",
    "\n",
    "        if n_remainder > 0:\n",
    "            block = img_bytes[-n_remainder:]\n",
    "            assert s.sendall(block) is None, print(\"Error sending image: %s\", e)\n",
    "        print(\"Image was sent.\")\n",
    "        \n",
    "    def add_noise(self, image):\n",
    "        img = image.copy()\n",
    "        h, w, c = img.shape\n",
    "        # Generate Gaussian noise\n",
    "        gaussian = np.random.normal(0, 1, img.size)\n",
    "        gaussian = gaussian.reshape(h, w, c).astype('uint8')\n",
    "        # Add the Gaussian noise to the image\n",
    "        img_gaussian = cv2.add(img, gaussian)\n",
    "        return img_gaussian\n"
   ]
  },
  {
   "cell_type": "code",
   "execution_count": 10,
   "id": "5a59c9d5",
   "metadata": {},
   "outputs": [],
   "source": [
    "noiseserver = NoiseServer(noise_server_port=5065, final_server_port=5066)"
   ]
  },
  {
   "cell_type": "code",
   "execution_count": 11,
   "id": "355a184b",
   "metadata": {},
   "outputs": [
    {
     "name": "stdout",
     "output_type": "stream",
     "text": [
      "Waiting for connection on port 5065.\n",
      "Connected. Port:5065.\n",
      "Size of image h = 450 w = 800 was received.\n",
      "Image was received.\n",
      "Waiting for connetion with port 5066.\n",
      "Connected. Port:5066. Sending images.\n",
      "Image was sent.\n",
      "Image was sent.\n"
     ]
    }
   ],
   "source": [
    "img = noiseserver.run()"
   ]
  }
 ],
 "metadata": {
  "kernelspec": {
   "display_name": "Python 3 (ipykernel)",
   "language": "python",
   "name": "python3"
  },
  "language_info": {
   "codemirror_mode": {
    "name": "ipython",
    "version": 3
   },
   "file_extension": ".py",
   "mimetype": "text/x-python",
   "name": "python",
   "nbconvert_exporter": "python",
   "pygments_lexer": "ipython3",
   "version": "3.8.10"
  }
 },
 "nbformat": 4,
 "nbformat_minor": 5
}
