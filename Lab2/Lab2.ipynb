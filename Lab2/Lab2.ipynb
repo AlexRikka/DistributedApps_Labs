{
 "cells": [
  {
   "cell_type": "code",
   "execution_count": 1,
   "id": "3e6ebe9b",
   "metadata": {},
   "outputs": [],
   "source": [
    "import numpy as np"
   ]
  },
  {
   "cell_type": "code",
   "execution_count": 110,
   "id": "ac8e541c",
   "metadata": {},
   "outputs": [],
   "source": [
    "class Finger():\n",
    "    def __init__(self, start, succ_id):\n",
    "        # stores id only\n",
    "        self.start = start\n",
    "        self.succ_id = succ_id"
   ]
  },
  {
   "cell_type": "code",
   "execution_count": 72,
   "id": "09c819ba",
   "metadata": {},
   "outputs": [],
   "source": [
    "class ChordNode:\n",
    "    def __init__(self, id, m_bits, chord_circle, predecessor_id):\n",
    "        self.id = id\n",
    "        self.m = m_bits\n",
    "        self.finger_table = []\n",
    "        self.chord_circle = chord_circle\n",
    "        self.chord_circle.add_node(self)\n",
    "        self.predecessor_id = predecessor_id\n",
    "\n",
    "    def successor(self):\n",
    "        successor_id = self.finger_table[0].succ_id\n",
    "        return self.chord_circle.get_node(successor_id)\n",
    "\n",
    "    def successor_id(self):\n",
    "        return self.finger_table[0].succ_id\n",
    "\n",
    "    def predecessor(self):\n",
    "        return self.chord_circle.get_node(self.predecessor_id)\n",
    "\n",
    "    def find_successor(self, id):\n",
    "        if self.id == id:\n",
    "            return self\n",
    "\n",
    "        node = self.find_predecessor(id)\n",
    "        return node.successor()\n",
    "\n",
    "    def find_predecessor(self, id):\n",
    "        if self.id == id:\n",
    "            return self.predecessor()\n",
    "\n",
    "        node = self\n",
    "        while not self.__check_interval(id, node.id, node.successor_id(), b_border=True):\n",
    "            node = node.closest_preceding_finger(id)\n",
    "        return node\n",
    "\n",
    "    def closest_preceding_finger(self, id):\n",
    "        for i in range(len(self.finger_table) - 1, -1, -1):\n",
    "            finger_id = self.finger_table[i].succ_id\n",
    "            if self.__check_interval(finger_id, self.id, id):\n",
    "                node = self.chord_circle.get_node(finger_id)\n",
    "                if node is None:\n",
    "                    self.finger_table[i].succ_id = self.id\n",
    "                    continue\n",
    "                return self.chord_circle.get_node(finger_id)\n",
    "        return self\n",
    "\n",
    "    def join(self, other_node):\n",
    "        print(f\"Node with id = {self.id} started joining the circle.\")\n",
    "        self.prepare_finger_table()\n",
    "        if other_node is not None:\n",
    "            self.init_finger_table(other_node)\n",
    "            self.update_others()\n",
    "        else:\n",
    "            # node is alone in circle\n",
    "            self.predecessor_id = self.id\n",
    "            for i in range(self.m):\n",
    "                self.finger_table[i].succ_id = self.id\n",
    "        print(\"join finished.\")\n",
    "                \n",
    "\n",
    "    def prepare_finger_table(self):\n",
    "        self.finger_table = []\n",
    "        for i in range(self.m):\n",
    "            finger = Finger(None, None)\n",
    "            finger.start = (self.id + 2**i) % 2 ** self.m\n",
    "            self.finger_table.append(finger)\n",
    "\n",
    "    # fill in finger table of this node\n",
    "    def init_finger_table(self, other_node):\n",
    "        first_finger_start = self.finger_table[0].start\n",
    "        successor = other_node.find_successor(first_finger_start)\n",
    "        self.finger_table[0].succ_id = successor.id\n",
    "        self.predecessor_id = successor.predecessor_id\n",
    "        successor.predecessor_id = self.id\n",
    "\n",
    "        for i in range(self.chord_circle.m_bits - 1):\n",
    "            pre_finger = self.finger_table[i]\n",
    "            finger = self.finger_table[i + 1]\n",
    "            if self.__check_interval(finger.start, self.id, pre_finger.succ_id, a_border=True):\n",
    "                finger.succ_id = pre_finger.succ_id\n",
    "            else:\n",
    "                finger.succ_id = other_node.find_successor(finger.start).id\n",
    "\n",
    "    # update nodes whose fingers refers to this node\n",
    "    def update_others(self, removed_id=None):\n",
    "        for i in range(self.m):\n",
    "            # last node whose i-th finger might be self node\n",
    "            pred = (self.id - 2**i + 1) % 2**self.m\n",
    "            p = self.find_predecessor(pred)\n",
    "            if removed_id is not None and p.id == removed_id:\n",
    "                p = self.find_predecessor(removed_id)\n",
    "\n",
    "            p.update_finger_table(self.id, i)\n",
    "\n",
    "    def update_finger_table(self, s, i):\n",
    "        # s - new id that should be as i-th finger of self node\n",
    "        if s == self.id:\n",
    "            return\n",
    "        finger = self.finger_table[i]\n",
    "        # if node was disconnected\n",
    "        not_accessible = self.chord_circle.get_node(finger.succ_id) is None\n",
    "        if self.__check_interval(s, self.id, finger.succ_id, b_border=True,  a_border=True) or not_accessible:\n",
    "            print(f'  At node with id={self.id} updated finger[{i}]: {finger.succ_id} -> {s}')\n",
    "            finger.succ_id = s\n",
    "            p_node = self.chord_circle.get_node(self.predecessor_id)\n",
    "            p_node.update_finger_table(s, i)\n",
    "\n",
    "    def disconnect(self):\n",
    "        self.chord_circle.remove_node(self.id)\n",
    "        # Update immediate neighbours\n",
    "        self.successor().predecessor_id = self.predecessor().id\n",
    "        self.predecessor().finger_table[0].succ_id = self.successor().id\n",
    "        self.successor().update_others(self.id)\n",
    "        print(f\"Node with id = {self.id} was disconnected.\")\n",
    "\n",
    "    def __check_interval(self, x, a, b, a_border=False, b_border=False):\n",
    "        if a_border and not b_border:\n",
    "            if x == a:\n",
    "                return True\n",
    "            else:\n",
    "                return self.__inbetween(x, a, b)\n",
    "        elif b_border and not a_border:\n",
    "            if x == b:\n",
    "                return True\n",
    "            else:\n",
    "                return self.__inbetween(x, a, b)\n",
    "        elif a_border and b_border:\n",
    "            if x == b or x == a:\n",
    "                return True\n",
    "            else:\n",
    "                return self.__inbetween(x, a, b)\n",
    "        else:\n",
    "            return self.__inbetween(x, a, b)\n",
    "\n",
    "    def __inbetween(self, x, a, b):\n",
    "        # borders excluded\n",
    "        if a == b:\n",
    "            return True\n",
    "        if b < a:\n",
    "            return a < x <= 2 ** self.m or 0 <= x < b\n",
    "        else:\n",
    "            return a < x < b\n",
    "\n",
    "    def print_finger_table(self):\n",
    "        print(f'Node id = {self.id}')\n",
    "        print(f'predec = {self.predecessor_id}, succ = {self.successor().id}')\n",
    "        print('start   succ.')\n",
    "        for i in self.finger_table:\n",
    "            print(f'{i.start}        {i.succ_id}')\n",
    "        print('\\n')"
   ]
  },
  {
   "cell_type": "code",
   "execution_count": 73,
   "id": "7e2bb6e9",
   "metadata": {},
   "outputs": [],
   "source": [
    "class ChordCircle:\n",
    "    def __init__(self, m_bits):\n",
    "        self.m_bits = m_bits\n",
    "        self.chord_circle = {}\n",
    "\n",
    "    def add_node(self, node: ChordNode):\n",
    "        self.chord_circle[node.id] = node\n",
    "        print(f\"Node with id = {node.id} was created.\")\n",
    "\n",
    "    def get_node(self, id) -> ChordNode:\n",
    "        return self.chord_circle.get(id)\n",
    "\n",
    "    def remove_node(self, id):\n",
    "        self.chord_circle.pop(id)\n",
    "\n",
    "    def init_chord_circle(self, circle):\n",
    "        for node in circle:\n",
    "            self.chord_circle[node.id] = node\n",
    "\n",
    "    def generate_id(self):\n",
    "        return np.random.choice([i for i in range(0, 2**self.m_bits) \n",
    "                                 if i not in list(self.chord_circle.keys())])\n",
    "\n",
    "    def generate_node(self):\n",
    "        new_id = self.generate_id()\n",
    "        new_node = ChordNode(id=new_id,\n",
    "                             m_bits=self.m_bits,\n",
    "                             chord_circle=self,\n",
    "                            predecessor_id=None)\n",
    "        return new_node\n",
    "\n",
    "\n",
    "    def print_circle(self):\n",
    "        for i in self.chord_circle:\n",
    "            self.chord_circle[i].print_finger_table()"
   ]
  },
  {
   "cell_type": "code",
   "execution_count": 99,
   "id": "0fdaeea8",
   "metadata": {},
   "outputs": [],
   "source": [
    "circle1 = ChordCircle(3)"
   ]
  },
  {
   "cell_type": "code",
   "execution_count": 100,
   "id": "1df4d400",
   "metadata": {},
   "outputs": [
    {
     "name": "stdout",
     "output_type": "stream",
     "text": [
      "Node with id = 0 was created.\n",
      "Node with id = 0 started joining the circle.\n",
      "join finished.\n"
     ]
    }
   ],
   "source": [
    "node0 = ChordNode(\n",
    "    id=0,\n",
    "    m_bits=3,\n",
    "    chord_circle=circle1,\n",
    "    predecessor_id=None)\n",
    "\n",
    "node0.join(None)"
   ]
  },
  {
   "cell_type": "code",
   "execution_count": 101,
   "id": "70a9d535",
   "metadata": {},
   "outputs": [
    {
     "name": "stdout",
     "output_type": "stream",
     "text": [
      "Node id = 0\n",
      "predec = 0, succ = 0\n",
      "start   succ.\n",
      "1        0\n",
      "2        0\n",
      "4        0\n",
      "\n",
      "\n"
     ]
    }
   ],
   "source": [
    "circle1.print_circle()"
   ]
  },
  {
   "cell_type": "code",
   "execution_count": 102,
   "id": "79ee3c6f",
   "metadata": {
    "scrolled": true
   },
   "outputs": [
    {
     "name": "stdout",
     "output_type": "stream",
     "text": [
      "Node with id = 1 was created.\n",
      "Node with id = 1 started joining the circle.\n",
      "  At node with id=0 updated finger[0]: 0 -> 1\n",
      "join finished.\n"
     ]
    }
   ],
   "source": [
    "node1 = ChordNode(\n",
    "    id=1,\n",
    "    m_bits=3,\n",
    "    chord_circle=circle1, \n",
    "    predecessor_id=None)\n",
    "\n",
    "node1.join(node0)"
   ]
  },
  {
   "cell_type": "code",
   "execution_count": 103,
   "id": "70b89b2a",
   "metadata": {},
   "outputs": [
    {
     "name": "stdout",
     "output_type": "stream",
     "text": [
      "Node id = 0\n",
      "predec = 1, succ = 1\n",
      "start   succ.\n",
      "1        1\n",
      "2        0\n",
      "4        0\n",
      "\n",
      "\n",
      "Node id = 1\n",
      "predec = 0, succ = 0\n",
      "start   succ.\n",
      "2        0\n",
      "3        0\n",
      "5        0\n",
      "\n",
      "\n"
     ]
    }
   ],
   "source": [
    "circle1.print_circle()"
   ]
  },
  {
   "cell_type": "code",
   "execution_count": 104,
   "id": "0cbc512d",
   "metadata": {},
   "outputs": [
    {
     "name": "stdout",
     "output_type": "stream",
     "text": [
      "Node with id = 2 was created.\n",
      "Node with id = 2 started joining the circle.\n",
      "  At node with id=1 updated finger[0]: 0 -> 2\n",
      "  At node with id=0 updated finger[1]: 0 -> 2\n",
      "join finished.\n"
     ]
    }
   ],
   "source": [
    "node2 = ChordNode(\n",
    "    id=2,\n",
    "    m_bits=3,\n",
    "    chord_circle=circle1, \n",
    "    predecessor_id=None)\n",
    "\n",
    "node2.join(node1)"
   ]
  },
  {
   "cell_type": "code",
   "execution_count": 105,
   "id": "c010debb",
   "metadata": {},
   "outputs": [
    {
     "name": "stdout",
     "output_type": "stream",
     "text": [
      "Node id = 0\n",
      "predec = 2, succ = 1\n",
      "start   succ.\n",
      "1        1\n",
      "2        2\n",
      "4        0\n",
      "\n",
      "\n",
      "Node id = 1\n",
      "predec = 0, succ = 2\n",
      "start   succ.\n",
      "2        2\n",
      "3        0\n",
      "5        0\n",
      "\n",
      "\n",
      "Node id = 2\n",
      "predec = 1, succ = 0\n",
      "start   succ.\n",
      "3        0\n",
      "4        0\n",
      "6        0\n",
      "\n",
      "\n"
     ]
    }
   ],
   "source": [
    "circle1.print_circle()"
   ]
  },
  {
   "cell_type": "code",
   "execution_count": 106,
   "id": "b0d61ecf",
   "metadata": {
    "scrolled": false
   },
   "outputs": [
    {
     "name": "stdout",
     "output_type": "stream",
     "text": [
      "Node with id = 4 was created.\n",
      "Node with id = 4 started joining the circle.\n",
      "  At node with id=2 updated finger[0]: 0 -> 4\n",
      "  At node with id=2 updated finger[1]: 0 -> 4\n",
      "  At node with id=1 updated finger[1]: 0 -> 4\n",
      "  At node with id=0 updated finger[2]: 0 -> 4\n",
      "join finished.\n"
     ]
    }
   ],
   "source": [
    "node3 = circle1.generate_node()\n",
    "node3.join(node0)"
   ]
  },
  {
   "cell_type": "code",
   "execution_count": 107,
   "id": "1d48b780",
   "metadata": {},
   "outputs": [
    {
     "name": "stdout",
     "output_type": "stream",
     "text": [
      "Node id = 0\n",
      "predec = 4, succ = 1\n",
      "start   succ.\n",
      "1        1\n",
      "2        2\n",
      "4        4\n",
      "\n",
      "\n",
      "Node id = 1\n",
      "predec = 0, succ = 2\n",
      "start   succ.\n",
      "2        2\n",
      "3        4\n",
      "5        0\n",
      "\n",
      "\n",
      "Node id = 2\n",
      "predec = 1, succ = 4\n",
      "start   succ.\n",
      "3        4\n",
      "4        4\n",
      "6        0\n",
      "\n",
      "\n",
      "Node id = 4\n",
      "predec = 2, succ = 0\n",
      "start   succ.\n",
      "5        0\n",
      "6        0\n",
      "0        0\n",
      "\n",
      "\n"
     ]
    }
   ],
   "source": [
    "circle1.print_circle()"
   ]
  },
  {
   "cell_type": "code",
   "execution_count": 108,
   "id": "bf7cdafd",
   "metadata": {
    "scrolled": false
   },
   "outputs": [
    {
     "name": "stdout",
     "output_type": "stream",
     "text": [
      "  At node with id=1 updated finger[0]: 4 -> 4\n",
      "  At node with id=1 updated finger[1]: 4 -> 4\n",
      "  At node with id=0 updated finger[1]: 0 -> 4\n",
      "  At node with id=0 updated finger[2]: 4 -> 4\n",
      "Node with id = 2 was disconnected.\n"
     ]
    }
   ],
   "source": [
    "node2.disconnect()"
   ]
  },
  {
   "cell_type": "code",
   "execution_count": 109,
   "id": "1c41614e",
   "metadata": {},
   "outputs": [
    {
     "name": "stdout",
     "output_type": "stream",
     "text": [
      "Node id = 0\n",
      "predec = 4, succ = 1\n",
      "start   succ.\n",
      "1        1\n",
      "2        4\n",
      "4        4\n",
      "\n",
      "\n",
      "Node id = 1\n",
      "predec = 0, succ = 4\n",
      "start   succ.\n",
      "2        4\n",
      "3        4\n",
      "5        0\n",
      "\n",
      "\n",
      "Node id = 4\n",
      "predec = 1, succ = 0\n",
      "start   succ.\n",
      "5        0\n",
      "6        0\n",
      "0        0\n",
      "\n",
      "\n"
     ]
    }
   ],
   "source": [
    "circle1.print_circle()"
   ]
  }
 ],
 "metadata": {
  "kernelspec": {
   "display_name": "Python 3 (ipykernel)",
   "language": "python",
   "name": "python3"
  },
  "language_info": {
   "codemirror_mode": {
    "name": "ipython",
    "version": 3
   },
   "file_extension": ".py",
   "mimetype": "text/x-python",
   "name": "python",
   "nbconvert_exporter": "python",
   "pygments_lexer": "ipython3",
   "version": "3.8.10"
  }
 },
 "nbformat": 4,
 "nbformat_minor": 5
}
